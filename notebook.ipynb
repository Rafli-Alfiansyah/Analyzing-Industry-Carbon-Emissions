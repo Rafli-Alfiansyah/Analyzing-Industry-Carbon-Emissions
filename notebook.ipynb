{
 "cells": [
  {
   "cell_type": "code",
   "execution_count": null,
   "id": "3f7a2138-e60c-4130-8c2b-66ae3177f585",
   "metadata": {
    "customType": "sql",
    "dataFrameVariableName": "carbon_emissions_by_industry",
    "executionCancelledAt": null,
    "executionTime": 1580,
    "lastExecutedAt": 1754317080000,
    "lastExecutedByKernel": "a1f9bc29-9c9c-4a61-a2a8-11f7838b34b0",
    "lastScheduledRunId": null,
    "lastSuccessfullyExecutedCode": "SELECT industry_group,\nCOUNT(DISTINCT company) AS num_companies,\nROUND(SUM(carbon_footprint_pcf), 1) AS total_industry_footprint\nFROM product_emissions\nWHERE year IN (SELECT MAX(year) FROM product_emissions)\nGROUP BY industry_group\nORDER BY total_industry_footprint DESC;",
    "outputsMetadata": {
     "0": {
      "height": 550,
      "tableState": {},
      "type": "dataFrame"
     }
    },
    "sqlCellMode": "dataFrame",
    "sqlSource": {
     "integrationId": "89e17161-a224-4a8a-846b-0adc0fe7a4b1",
     "type": "integration"
    }
   },
   "outputs": [
    {
     "data": {
      "application/com.datacamp.data-table.v2+json": {
       "table": {
        "data": {
         "index": [
          0,
          1,
          2,
          3,
          4,
          5
         ],
         "industry_group": [
          "Materials",
          "Capital Goods",
          "Technology Hardware & Equipment",
          "Food, Beverage & Tobacco",
          "Commercial & Professional Services",
          "Software & Services"
         ],
         "num_companies": [
          3,
          2,
          4,
          1,
          1,
          1
         ],
         "total_industry_footprint": [
          107129,
          94942.7,
          21865.1,
          3161.5,
          740.6,
          690
         ]
        },
        "schema": {
         "fields": [
          {
           "name": "index",
           "type": "integer"
          },
          {
           "name": "industry_group",
           "type": "string"
          },
          {
           "name": "num_companies",
           "type": "integer"
          },
          {
           "name": "total_industry_footprint",
           "type": "number"
          }
         ],
         "pandas_version": "1.4.0",
         "primaryKey": [
          "index"
         ]
        }
       },
       "total_rows": 6,
       "truncation_type": null
      },
      "text/html": [
       "<div>\n",
       "<style scoped>\n",
       "    .dataframe tbody tr th:only-of-type {\n",
       "        vertical-align: middle;\n",
       "    }\n",
       "\n",
       "    .dataframe tbody tr th {\n",
       "        vertical-align: top;\n",
       "    }\n",
       "\n",
       "    .dataframe thead th {\n",
       "        text-align: right;\n",
       "    }\n",
       "</style>\n",
       "<table border=\"1\" class=\"dataframe\">\n",
       "  <thead>\n",
       "    <tr style=\"text-align: right;\">\n",
       "      <th></th>\n",
       "      <th>industry_group</th>\n",
       "      <th>num_companies</th>\n",
       "      <th>total_industry_footprint</th>\n",
       "    </tr>\n",
       "  </thead>\n",
       "  <tbody>\n",
       "    <tr>\n",
       "      <th>0</th>\n",
       "      <td>Materials</td>\n",
       "      <td>3</td>\n",
       "      <td>107129.0</td>\n",
       "    </tr>\n",
       "    <tr>\n",
       "      <th>1</th>\n",
       "      <td>Capital Goods</td>\n",
       "      <td>2</td>\n",
       "      <td>94942.7</td>\n",
       "    </tr>\n",
       "    <tr>\n",
       "      <th>2</th>\n",
       "      <td>Technology Hardware &amp; Equipment</td>\n",
       "      <td>4</td>\n",
       "      <td>21865.1</td>\n",
       "    </tr>\n",
       "    <tr>\n",
       "      <th>3</th>\n",
       "      <td>Food, Beverage &amp; Tobacco</td>\n",
       "      <td>1</td>\n",
       "      <td>3161.5</td>\n",
       "    </tr>\n",
       "    <tr>\n",
       "      <th>4</th>\n",
       "      <td>Commercial &amp; Professional Services</td>\n",
       "      <td>1</td>\n",
       "      <td>740.6</td>\n",
       "    </tr>\n",
       "    <tr>\n",
       "      <th>5</th>\n",
       "      <td>Software &amp; Services</td>\n",
       "      <td>1</td>\n",
       "      <td>690.0</td>\n",
       "    </tr>\n",
       "  </tbody>\n",
       "</table>\n",
       "</div>"
      ],
      "text/plain": [
       "                       industry_group  num_companies  total_industry_footprint\n",
       "0                           Materials              3                  107129.0\n",
       "1                       Capital Goods              2                   94942.7\n",
       "2     Technology Hardware & Equipment              4                   21865.1\n",
       "3            Food, Beverage & Tobacco              1                    3161.5\n",
       "4  Commercial & Professional Services              1                     740.6\n",
       "5                 Software & Services              1                     690.0"
      ]
     },
     "execution_count": 10,
     "metadata": {
      "application/com.datacamp.data-table.v2+json": {
       "status": "success"
      }
     },
     "output_type": "execute_result"
    }
   ],
   "source": [
    "SELECT industry_group,\n",
    "COUNT(DISTINCT company) AS num_companies,\n",
    "ROUND(SUM(carbon_footprint_pcf), 1) AS total_industry_footprint\n",
    "FROM product_emissions\n",
    "WHERE year IN (SELECT MAX(year) FROM product_emissions)\n",
    "GROUP BY industry_group\n",
    "ORDER BY total_industry_footprint DESC;"
   ]
  }
 ],
 "metadata": {
  "editor": "DataLab",
  "kernelspec": {
   "display_name": "Python 3 (ipykernel)",
   "language": "python",
   "name": "python3"
  },
  "language_info": {
   "codemirror_mode": {
    "name": "ipython",
    "version": 3
   },
   "file_extension": ".py",
   "mimetype": "text/x-python",
   "name": "python",
   "nbconvert_exporter": "python",
   "pygments_lexer": "ipython3",
   "version": "3.8.10"
  }
 },
 "nbformat": 4,
 "nbformat_minor": 5
}
